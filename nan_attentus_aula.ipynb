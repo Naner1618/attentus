{
 "cells": [
  {
   "cell_type": "code",
   "execution_count": 134,
   "id": "e4d762b3",
   "metadata": {},
   "outputs": [],
   "source": [
    "import pandas as pd\n",
    "import numpy as np \n",
    "import matplotlib.pyplot as plt\n",
    "import os\n",
    "from mmq import metodo_minimos_quadrados"
   ]
  },
  {
   "cell_type": "code",
   "execution_count": 135,
   "id": "aa74b639",
   "metadata": {},
   "outputs": [
    {
     "data": {
      "application/vnd.microsoft.datawrangler.viewer.v0+json": {
       "columns": [
        {
         "name": "index",
         "rawType": "int64",
         "type": "integer"
        },
        {
         "name": "rotulo",
         "rawType": "int64",
         "type": "integer"
        },
        {
         "name": "hora_inicio",
         "rawType": "object",
         "type": "unknown"
        },
        {
         "name": "hora_fim",
         "rawType": "object",
         "type": "unknown"
        },
        {
         "name": "numero_medio_ligantes",
         "rawType": "int64",
         "type": "integer"
        }
       ],
       "ref": "49c67ecf-9916-43d6-aaea-5bf435434343",
       "rows": [
        [
         "0",
         "1",
         "00:00:00",
         "00:15:00",
         "601"
        ],
        [
         "1",
         "2",
         "00:15:00",
         "00:30:00",
         "190"
        ],
        [
         "2",
         "3",
         "00:30:00",
         "00:45:00",
         "180"
        ],
        [
         "3",
         "4",
         "00:45:00",
         "01:00:00",
         "177"
        ],
        [
         "4",
         "5",
         "01:00:00",
         "01:15:00",
         "162"
        ],
        [
         "5",
         "6",
         "01:15:00",
         "01:30:00",
         "110"
        ],
        [
         "6",
         "7",
         "01:30:00",
         "01:45:00",
         "99"
        ],
        [
         "7",
         "8",
         "01:45:00",
         "02:00:00",
         "108"
        ],
        [
         "8",
         "9",
         "02:00:00",
         "02:15:00",
         "97"
        ],
        [
         "9",
         "10",
         "02:15:00",
         "02:30:00",
         "77"
        ],
        [
         "10",
         "11",
         "02:30:00",
         "02:45:00",
         "75"
        ],
        [
         "11",
         "12",
         "02:45:00",
         "03:00:00",
         "76"
        ],
        [
         "12",
         "13",
         "03:00:00",
         "03:15:00",
         "79"
        ],
        [
         "13",
         "14",
         "03:15:00",
         "03:30:00",
         "46"
        ],
        [
         "14",
         "15",
         "03:30:00",
         "03:45:00",
         "45"
        ],
        [
         "15",
         "16",
         "03:45:00",
         "04:00:00",
         "42"
        ],
        [
         "16",
         "17",
         "04:00:00",
         "04:15:00",
         "49"
        ],
        [
         "17",
         "18",
         "04:15:00",
         "04:30:00",
         "45"
        ],
        [
         "18",
         "19",
         "04:30:00",
         "04:45:00",
         "44"
        ],
        [
         "19",
         "20",
         "04:45:00",
         "05:00:00",
         "49"
        ],
        [
         "20",
         "21",
         "05:00:00",
         "05:15:00",
         "57"
        ],
        [
         "21",
         "22",
         "05:15:00",
         "05:30:00",
         "52"
        ],
        [
         "22",
         "23",
         "05:30:00",
         "05:45:00",
         "51"
        ],
        [
         "23",
         "24",
         "05:45:00",
         "06:00:00",
         "49"
        ],
        [
         "24",
         "25",
         "06:00:00",
         "06:15:00",
         "97"
        ],
        [
         "25",
         "26",
         "06:15:00",
         "06:30:00",
         "132"
        ],
        [
         "26",
         "27",
         "06:30:00",
         "06:45:00",
         "141"
        ],
        [
         "27",
         "28",
         "06:45:00",
         "07:00:00",
         "155"
        ],
        [
         "28",
         "29",
         "07:00:00",
         "07:15:00",
         "630"
        ],
        [
         "29",
         "30",
         "07:15:00",
         "07:30:00",
         "634"
        ],
        [
         "30",
         "31",
         "07:30:00",
         "07:45:00",
         "790"
        ],
        [
         "31",
         "32",
         "07:45:00",
         "08:00:00",
         "698"
        ],
        [
         "32",
         "33",
         "08:00:00",
         "08:15:00",
         "1570"
        ],
        [
         "33",
         "34",
         "08:15:00",
         "08:30:00",
         "1590"
        ],
        [
         "34",
         "35",
         "08:30:00",
         "08:45:00",
         "1601"
        ],
        [
         "35",
         "36",
         "08:45:00",
         "09:00:00",
         "1700"
        ],
        [
         "36",
         "37",
         "09:00:00",
         "09:15:00",
         "2600"
        ],
        [
         "37",
         "38",
         "09:15:00",
         "09:30:00",
         "2509"
        ],
        [
         "38",
         "39",
         "09:30:00",
         "09:45:00",
         "2603"
        ],
        [
         "39",
         "40",
         "09:45:00",
         "10:00:00",
         "2699"
        ],
        [
         "40",
         "41",
         "10:00:00",
         "10:15:00",
         "3124"
        ],
        [
         "41",
         "42",
         "10:15:00",
         "10:30:00",
         "3135"
        ],
        [
         "42",
         "43",
         "10:30:00",
         "10:45:00",
         "3080"
        ],
        [
         "43",
         "44",
         "10:45:00",
         "11:00:00",
         "3197"
        ],
        [
         "44",
         "45",
         "11:00:00",
         "11:15:00",
         "2890"
        ],
        [
         "45",
         "46",
         "11:15:00",
         "11:30:00",
         "2910"
        ],
        [
         "46",
         "47",
         "11:30:00",
         "11:45:00",
         "2912"
        ],
        [
         "47",
         "48",
         "11:45:00",
         "12:00:00",
         "2870"
        ],
        [
         "48",
         "49",
         "12:00:00",
         "12:15:00",
         "2403"
        ],
        [
         "49",
         "50",
         "12:15:00",
         "12:30:00",
         "2397"
        ]
       ],
       "shape": {
        "columns": 4,
        "rows": 96
       }
      },
      "text/html": [
       "<div>\n",
       "<style scoped>\n",
       "    .dataframe tbody tr th:only-of-type {\n",
       "        vertical-align: middle;\n",
       "    }\n",
       "\n",
       "    .dataframe tbody tr th {\n",
       "        vertical-align: top;\n",
       "    }\n",
       "\n",
       "    .dataframe thead th {\n",
       "        text-align: right;\n",
       "    }\n",
       "</style>\n",
       "<table border=\"1\" class=\"dataframe\">\n",
       "  <thead>\n",
       "    <tr style=\"text-align: right;\">\n",
       "      <th></th>\n",
       "      <th>rotulo</th>\n",
       "      <th>hora_inicio</th>\n",
       "      <th>hora_fim</th>\n",
       "      <th>numero_medio_ligantes</th>\n",
       "    </tr>\n",
       "  </thead>\n",
       "  <tbody>\n",
       "    <tr>\n",
       "      <th>0</th>\n",
       "      <td>1</td>\n",
       "      <td>00:00:00</td>\n",
       "      <td>00:15:00</td>\n",
       "      <td>601</td>\n",
       "    </tr>\n",
       "    <tr>\n",
       "      <th>1</th>\n",
       "      <td>2</td>\n",
       "      <td>00:15:00</td>\n",
       "      <td>00:30:00</td>\n",
       "      <td>190</td>\n",
       "    </tr>\n",
       "    <tr>\n",
       "      <th>2</th>\n",
       "      <td>3</td>\n",
       "      <td>00:30:00</td>\n",
       "      <td>00:45:00</td>\n",
       "      <td>180</td>\n",
       "    </tr>\n",
       "    <tr>\n",
       "      <th>3</th>\n",
       "      <td>4</td>\n",
       "      <td>00:45:00</td>\n",
       "      <td>01:00:00</td>\n",
       "      <td>177</td>\n",
       "    </tr>\n",
       "    <tr>\n",
       "      <th>4</th>\n",
       "      <td>5</td>\n",
       "      <td>01:00:00</td>\n",
       "      <td>01:15:00</td>\n",
       "      <td>162</td>\n",
       "    </tr>\n",
       "    <tr>\n",
       "      <th>...</th>\n",
       "      <td>...</td>\n",
       "      <td>...</td>\n",
       "      <td>...</td>\n",
       "      <td>...</td>\n",
       "    </tr>\n",
       "    <tr>\n",
       "      <th>91</th>\n",
       "      <td>92</td>\n",
       "      <td>22:45:00</td>\n",
       "      <td>23:00:00</td>\n",
       "      <td>920</td>\n",
       "    </tr>\n",
       "    <tr>\n",
       "      <th>92</th>\n",
       "      <td>93</td>\n",
       "      <td>23:00:00</td>\n",
       "      <td>23:15:00</td>\n",
       "      <td>897</td>\n",
       "    </tr>\n",
       "    <tr>\n",
       "      <th>93</th>\n",
       "      <td>94</td>\n",
       "      <td>23:15:00</td>\n",
       "      <td>23:30:00</td>\n",
       "      <td>571</td>\n",
       "    </tr>\n",
       "    <tr>\n",
       "      <th>94</th>\n",
       "      <td>95</td>\n",
       "      <td>23:30:00</td>\n",
       "      <td>23:45:00</td>\n",
       "      <td>560</td>\n",
       "    </tr>\n",
       "    <tr>\n",
       "      <th>95</th>\n",
       "      <td>96</td>\n",
       "      <td>23:45:00</td>\n",
       "      <td>00:00:00</td>\n",
       "      <td>590</td>\n",
       "    </tr>\n",
       "  </tbody>\n",
       "</table>\n",
       "<p>96 rows × 4 columns</p>\n",
       "</div>"
      ],
      "text/plain": [
       "    rotulo hora_inicio  hora_fim  numero_medio_ligantes\n",
       "0        1    00:00:00  00:15:00                    601\n",
       "1        2    00:15:00  00:30:00                    190\n",
       "2        3    00:30:00  00:45:00                    180\n",
       "3        4    00:45:00  01:00:00                    177\n",
       "4        5    01:00:00  01:15:00                    162\n",
       "..     ...         ...       ...                    ...\n",
       "91      92    22:45:00  23:00:00                    920\n",
       "92      93    23:00:00  23:15:00                    897\n",
       "93      94    23:15:00  23:30:00                    571\n",
       "94      95    23:30:00  23:45:00                    560\n",
       "95      96    23:45:00  00:00:00                    590\n",
       "\n",
       "[96 rows x 4 columns]"
      ]
     },
     "execution_count": 135,
     "metadata": {},
     "output_type": "execute_result"
    }
   ],
   "source": [
    "df_tabela_ligantes = pd.read_excel(\n",
    "    os.path.join(\"data\", \"df_tabela_ligantes.xlsx\")\n",
    ")\n",
    "df_tabela_ligantes"
   ]
  },
  {
   "cell_type": "code",
   "execution_count": 136,
   "id": "3680e4fe",
   "metadata": {},
   "outputs": [
    {
     "data": {
      "text/plain": [
       "'data\\\\df_tabela_ligantes.xlsx'"
      ]
     },
     "execution_count": 136,
     "metadata": {},
     "output_type": "execute_result"
    }
   ],
   "source": [
    "os.path.join(\"data\", \"df_tabela_ligantes.xlsx\")\n"
   ]
  },
  {
   "cell_type": "code",
   "execution_count": 137,
   "id": "ea3f4899",
   "metadata": {},
   "outputs": [
    {
     "data": {
      "application/vnd.microsoft.datawrangler.viewer.v0+json": {
       "columns": [
        {
         "name": "index",
         "rawType": "int64",
         "type": "integer"
        },
        {
         "name": "duracao_conexao",
         "rawType": "int64",
         "type": "integer"
        },
        {
         "name": "numero_ligantes",
         "rawType": "int64",
         "type": "integer"
        },
        {
         "name": "percentagem_relativa",
         "rawType": "float64",
         "type": "float"
        },
        {
         "name": "percentagem_acumulada",
         "rawType": "float64",
         "type": "float"
        }
       ],
       "ref": "847d5ca7-e1ee-4170-9684-251293b1b11a",
       "rows": [
        [
         "0",
         "0",
         "0",
         "0.0",
         "0.0"
        ],
        [
         "1",
         "5",
         "870",
         "0.087",
         "0.087"
        ],
        [
         "2",
         "10",
         "2210",
         "0.221",
         "0.308"
        ],
        [
         "3",
         "15",
         "2940",
         "0.294",
         "0.602"
        ],
        [
         "4",
         "20",
         "1710",
         "0.171",
         "0.773"
        ],
        [
         "5",
         "25",
         "1360",
         "0.136",
         "0.909"
        ],
        [
         "6",
         "30",
         "590",
         "0.059",
         "0.968"
        ],
        [
         "7",
         "35",
         "250",
         "0.025",
         "0.993"
        ],
        [
         "8",
         "40",
         "70",
         "0.007",
         "1.0"
        ]
       ],
       "shape": {
        "columns": 4,
        "rows": 9
       }
      },
      "text/html": [
       "<div>\n",
       "<style scoped>\n",
       "    .dataframe tbody tr th:only-of-type {\n",
       "        vertical-align: middle;\n",
       "    }\n",
       "\n",
       "    .dataframe tbody tr th {\n",
       "        vertical-align: top;\n",
       "    }\n",
       "\n",
       "    .dataframe thead th {\n",
       "        text-align: right;\n",
       "    }\n",
       "</style>\n",
       "<table border=\"1\" class=\"dataframe\">\n",
       "  <thead>\n",
       "    <tr style=\"text-align: right;\">\n",
       "      <th></th>\n",
       "      <th>duracao_conexao</th>\n",
       "      <th>numero_ligantes</th>\n",
       "      <th>percentagem_relativa</th>\n",
       "      <th>percentagem_acumulada</th>\n",
       "    </tr>\n",
       "  </thead>\n",
       "  <tbody>\n",
       "    <tr>\n",
       "      <th>0</th>\n",
       "      <td>0</td>\n",
       "      <td>0</td>\n",
       "      <td>0.000</td>\n",
       "      <td>0.000</td>\n",
       "    </tr>\n",
       "    <tr>\n",
       "      <th>1</th>\n",
       "      <td>5</td>\n",
       "      <td>870</td>\n",
       "      <td>0.087</td>\n",
       "      <td>0.087</td>\n",
       "    </tr>\n",
       "    <tr>\n",
       "      <th>2</th>\n",
       "      <td>10</td>\n",
       "      <td>2210</td>\n",
       "      <td>0.221</td>\n",
       "      <td>0.308</td>\n",
       "    </tr>\n",
       "    <tr>\n",
       "      <th>3</th>\n",
       "      <td>15</td>\n",
       "      <td>2940</td>\n",
       "      <td>0.294</td>\n",
       "      <td>0.602</td>\n",
       "    </tr>\n",
       "    <tr>\n",
       "      <th>4</th>\n",
       "      <td>20</td>\n",
       "      <td>1710</td>\n",
       "      <td>0.171</td>\n",
       "      <td>0.773</td>\n",
       "    </tr>\n",
       "    <tr>\n",
       "      <th>5</th>\n",
       "      <td>25</td>\n",
       "      <td>1360</td>\n",
       "      <td>0.136</td>\n",
       "      <td>0.909</td>\n",
       "    </tr>\n",
       "    <tr>\n",
       "      <th>6</th>\n",
       "      <td>30</td>\n",
       "      <td>590</td>\n",
       "      <td>0.059</td>\n",
       "      <td>0.968</td>\n",
       "    </tr>\n",
       "    <tr>\n",
       "      <th>7</th>\n",
       "      <td>35</td>\n",
       "      <td>250</td>\n",
       "      <td>0.025</td>\n",
       "      <td>0.993</td>\n",
       "    </tr>\n",
       "    <tr>\n",
       "      <th>8</th>\n",
       "      <td>40</td>\n",
       "      <td>70</td>\n",
       "      <td>0.007</td>\n",
       "      <td>1.000</td>\n",
       "    </tr>\n",
       "  </tbody>\n",
       "</table>\n",
       "</div>"
      ],
      "text/plain": [
       "   duracao_conexao  numero_ligantes  percentagem_relativa  \\\n",
       "0                0                0                 0.000   \n",
       "1                5              870                 0.087   \n",
       "2               10             2210                 0.221   \n",
       "3               15             2940                 0.294   \n",
       "4               20             1710                 0.171   \n",
       "5               25             1360                 0.136   \n",
       "6               30              590                 0.059   \n",
       "7               35              250                 0.025   \n",
       "8               40               70                 0.007   \n",
       "\n",
       "   percentagem_acumulada  \n",
       "0                  0.000  \n",
       "1                  0.087  \n",
       "2                  0.308  \n",
       "3                  0.602  \n",
       "4                  0.773  \n",
       "5                  0.909  \n",
       "6                  0.968  \n",
       "7                  0.993  \n",
       "8                  1.000  "
      ]
     },
     "execution_count": 137,
     "metadata": {},
     "output_type": "execute_result"
    }
   ],
   "source": [
    "df_duracoes = pd.read_excel(\n",
    "    os.path.join(\"data\",\"df_duracoes.xlsx\")\n",
    ")\n",
    "df_duracoes"
   ]
  },
  {
   "cell_type": "code",
   "execution_count": 138,
   "id": "a15ec6d3",
   "metadata": {},
   "outputs": [
    {
     "data": {
      "text/plain": [
       "<Axes: xlabel='duracao_conexao'>"
      ]
     },
     "execution_count": 138,
     "metadata": {},
     "output_type": "execute_result"
    },
    {
     "data": {
      "image/png": "[encoded data removed]",
      "text/plain": [
       "<Figure size 500x300 with 1 Axes>"
      ]
     },
     "metadata": {},
     "output_type": "display_data"
    }
   ],
   "source": [
    "df_duracoes.plot(x=\"duracao_conexao\",\n",
    "                 y=\"numero_ligantes\",\n",
    "                 kind=\"bar\",\n",
    "                 figsize=(5,3),\n",
    "                 color=\"red\",\n",
    "                 edgecolor=\"black\")"
   ]
  },
  {
   "cell_type": "code",
   "execution_count": 139,
   "id": "32d50c69",
   "metadata": {},
   "outputs": [
    {
     "data": {
      "text/plain": [
       "<Axes: xlabel='percentagem_acumulada', ylabel='duracao_conexao'>"
      ]
     },
     "execution_count": 139,
     "metadata": {},
     "output_type": "execute_result"
    },
    {
     "data": {
      "image/png": "[encoded data removed]",
      "text/plain": [
       "<Figure size 640x480 with 1 Axes>"
      ]
     },
     "metadata": {},
     "output_type": "display_data"
    }
   ],
   "source": [
    "df_duracoes.plot(\n",
    "    x=\"percentagem_acumulada\",\n",
    "    y=\"duracao_conexao\",\n",
    "    kind=\"scatter\"\n",
    ")"
   ]
  },
  {
   "cell_type": "code",
   "execution_count": 140,
   "id": "93badb52",
   "metadata": {},
   "outputs": [
    {
     "data": {
      "text/plain": [
       "array([  7.25285080e+02,  -1.67791097e+03,   1.41326154e+03,\n",
       "        -5.23808659e+02,   1.01010563e+02,  -2.06253859e-01])"
      ]
     },
     "execution_count": 140,
     "metadata": {},
     "output_type": "execute_result"
    }
   ],
   "source": [
    "coefs = metodo_minimos_quadrados.mmq(\n",
    "    df_duracoes[\"percentagem_acumulada\"],\n",
    "    df_duracoes[\"duracao_conexao\"],\n",
    "    5\n",
    ")\n",
    "coefs"
   ]
  },
  {
   "cell_type": "code",
   "execution_count": 141,
   "id": "f2693645",
   "metadata": {},
   "outputs": [
    {
     "name": "stdout",
     "output_type": "stream",
     "text": [
      "[ 0.   0.1  0.2  0.3  0.4  0.5  0.6  0.7  0.8  0.9]\n",
      "[ -0.2   5.9   7.9   9.3  11.3  13.8  16.   17.6  19.4  24.2]\n"
     ]
    }
   ],
   "source": [
    "x = np.linspace(0, 1, 1000)\n",
    "y = np.polyval(coefs, x)\n",
    "print(x[::100].round(1))\n",
    "print(y[::100].round(1))"
   ]
  },
  {
   "cell_type": "code",
   "execution_count": 142,
   "id": "7e185737",
   "metadata": {},
   "outputs": [
    {
     "data": {
      "image/png": "[encoded data removed]",
      "text/plain": [
       "<Figure size 640x480 with 1 Axes>"
      ]
     },
     "metadata": {},
     "output_type": "display_data"
    }
   ],
   "source": [
    "percentagens_acumuladas = df_duracoes[\"percentagem_acumulada\"]\n",
    "duracoes = df_duracoes[\"duracao_conexao\"]\n",
    "\n",
    "plt.scatter(percentagens_acumuladas, duracoes, color=\"red\", label=\"Dados Originais\")\n",
    "plt.plot(x, y, label=\"Polinomio\")\n",
    "plt.legend()\n",
    "plt.show()\n",
    "\n"
   ]
  },
  {
   "cell_type": "code",
   "execution_count": 143,
   "id": "f6e836d4",
   "metadata": {},
   "outputs": [
    {
     "data": {
      "image/png": "[encoded data removed]",
      "text/plain": [
       "<Figure size 640x480 with 1 Axes>"
      ]
     },
     "metadata": {},
     "output_type": "display_data"
    }
   ],
   "source": [
    "coefs = metodo_minimos_quadrados.mmq(\n",
    "    df_duracoes[\"percentagem_acumulada\"],\n",
    "    df_duracoes[\"duracao_conexao\"],\n",
    "    8\n",
    ")\n",
    "#-----------------------------------------------------------\n",
    "\n",
    "x = np.linspace(0, 1, 1000)\n",
    "y = np.polyval(coefs, x)\n",
    "\n",
    "#-----------------------------------------------------------\n",
    "\n",
    "percentagens_acumuladas = df_duracoes[\"percentagem_acumulada\"]\n",
    "duracoes = df_duracoes[\"duracao_conexao\"]\n",
    "\n",
    "plt.scatter(percentagens_acumuladas, duracoes, color=\"red\", label=\"Dados Originais\")\n",
    "plt.plot(x, y, label=\"Polinomio\")\n",
    "plt.legend()\n",
    "plt.show()"
   ]
  },
  {
   "cell_type": "code",
   "execution_count": 144,
   "id": "7665a622",
   "metadata": {},
   "outputs": [
    {
     "data": {
      "text/plain": [
       "array([  7.25285080e+02,  -1.67791097e+03,   1.41326154e+03,\n",
       "        -5.23808659e+02,   1.01010563e+02,  -2.06253859e-01])"
      ]
     },
     "execution_count": 144,
     "metadata": {},
     "output_type": "execute_result"
    }
   ],
   "source": [
    "coefs = metodo_minimos_quadrados.mmq(\n",
    "    df_duracoes[\"percentagem_acumulada\"],\n",
    "    df_duracoes[\"duracao_conexao\"],\n",
    "    5\n",
    ")\n",
    "coefs"
   ]
  },
  {
   "cell_type": "code",
   "execution_count": 145,
   "id": "2d9c1d4f",
   "metadata": {},
   "outputs": [
    {
     "data": {
      "text/plain": [
       "-0.20625385920448025"
      ]
     },
     "execution_count": 145,
     "metadata": {},
     "output_type": "execute_result"
    }
   ],
   "source": [
    "np.polyval(coefs, 0)"
   ]
  },
  {
   "cell_type": "code",
   "execution_count": 146,
   "id": "a4829d06",
   "metadata": {},
   "outputs": [
    {
     "data": {
      "text/plain": [
       "array([-0.20625386,  5.90943916,  7.89703842,  9.28356129])"
      ]
     },
     "execution_count": 146,
     "metadata": {},
     "output_type": "execute_result"
    }
   ],
   "source": [
    "np.polyval(coefs, [0, 0.1, 0.2, 0.3])"
   ]
  },
  {
   "cell_type": "code",
   "execution_count": 147,
   "id": "e930fc21",
   "metadata": {},
   "outputs": [
    {
     "data": {
      "text/plain": [
       "14.248163147387874"
      ]
     },
     "execution_count": 147,
     "metadata": {},
     "output_type": "execute_result"
    }
   ],
   "source": [
    "tempos_aleatorios = []\n",
    "for _ in range (10_000):\n",
    "    alpha = np.random.random()\n",
    "    tempo = np.polyval(coefs, alpha)\n",
    "    tempos_aleatorios.append(tempo)\n",
    "\n",
    "np.mean(tempos_aleatorios)"
   ]
  },
  {
   "cell_type": "code",
   "execution_count": 148,
   "id": "04eb2462",
   "metadata": {},
   "outputs": [
    {
     "data": {
      "application/vnd.microsoft.datawrangler.viewer.v0+json": {
       "columns": [
        {
         "name": "index",
         "rawType": "object",
         "type": "string"
        },
        {
         "name": "0",
         "rawType": "object",
         "type": "unknown"
        }
       ],
       "ref": "46e06c8a-ec53-49d5-bcb3-58a767dfe38c",
       "rows": [
        [
         "rotulo",
         "1"
        ],
        [
         "hora_inicio",
         "00:00:00"
        ],
        [
         "hora_fim",
         "00:15:00"
        ],
        [
         "numero_medio_ligantes",
         "601"
        ]
       ],
       "shape": {
        "columns": 1,
        "rows": 4
       }
      },
      "text/plain": [
       "rotulo                          1\n",
       "hora_inicio              00:00:00\n",
       "hora_fim                 00:15:00\n",
       "numero_medio_ligantes         601\n",
       "Name: 0, dtype: object"
      ]
     },
     "execution_count": 148,
     "metadata": {},
     "output_type": "execute_result"
    }
   ],
   "source": [
    "df_tabela_ligantes.loc[0]"
   ]
  },
  {
   "cell_type": "code",
   "execution_count": 149,
   "id": "ff337133",
   "metadata": {},
   "outputs": [
    {
     "data": {
      "text/plain": [
       "601"
      ]
     },
     "execution_count": 149,
     "metadata": {},
     "output_type": "execute_result"
    }
   ],
   "source": [
    "qtd_ligacoes = \\\n",
    "    df_tabela_ligantes.loc[0, \"numero_medio_ligantes\"]\n",
    "qtd_ligacoes"
   ]
  },
  {
   "cell_type": "markdown",
   "id": "952e9585",
   "metadata": {},
   "source": []
  },
  {
   "cell_type": "code",
   "execution_count": 150,
   "id": "99f84540",
   "metadata": {},
   "outputs": [
    {
     "data": {
      "text/plain": [
       "array([684, 559, 629, 192, 835, 763, 707, 359,   9, 723], dtype=int32)"
      ]
     },
     "execution_count": 150,
     "metadata": {},
     "output_type": "execute_result"
    }
   ],
   "source": [
    "np.random.seed(0)\n",
    "momentos_ligacoes = np.random.randint(0, 900, size=qtd_ligacoes)\n",
    "momentos_ligacoes[:10]"
   ]
  },
  {
   "cell_type": "code",
   "execution_count": 151,
   "id": "caacc979",
   "metadata": {},
   "outputs": [
    {
     "data": {
      "application/vnd.microsoft.datawrangler.viewer.v0+json": {
       "columns": [
        {
         "name": "index",
         "rawType": "int64",
         "type": "integer"
        },
        {
         "name": "duracao_conexao",
         "rawType": "int64",
         "type": "integer"
        },
        {
         "name": "numero_ligantes",
         "rawType": "int64",
         "type": "integer"
        },
        {
         "name": "percentagem_relativa",
         "rawType": "float64",
         "type": "float"
        },
        {
         "name": "percentagem_acumulada",
         "rawType": "float64",
         "type": "float"
        }
       ],
       "ref": "c1e4488c-d0cb-4a3d-ba56-c77c5dcc3452",
       "rows": [
        [
         "0",
         "0",
         "0",
         "0.0",
         "0.0"
        ],
        [
         "1",
         "5",
         "870",
         "0.087",
         "0.087"
        ],
        [
         "2",
         "10",
         "2210",
         "0.221",
         "0.308"
        ],
        [
         "3",
         "15",
         "2940",
         "0.294",
         "0.602"
        ],
        [
         "4",
         "20",
         "1710",
         "0.171",
         "0.773"
        ],
        [
         "5",
         "25",
         "1360",
         "0.136",
         "0.909"
        ],
        [
         "6",
         "30",
         "590",
         "0.059",
         "0.968"
        ],
        [
         "7",
         "35",
         "250",
         "0.025",
         "0.993"
        ],
        [
         "8",
         "40",
         "70",
         "0.007",
         "1.0"
        ]
       ],
       "shape": {
        "columns": 4,
        "rows": 9
       }
      },
      "text/html": [
       "<div>\n",
       "<style scoped>\n",
       "    .dataframe tbody tr th:only-of-type {\n",
       "        vertical-align: middle;\n",
       "    }\n",
       "\n",
       "    .dataframe tbody tr th {\n",
       "        vertical-align: top;\n",
       "    }\n",
       "\n",
       "    .dataframe thead th {\n",
       "        text-align: right;\n",
       "    }\n",
       "</style>\n",
       "<table border=\"1\" class=\"dataframe\">\n",
       "  <thead>\n",
       "    <tr style=\"text-align: right;\">\n",
       "      <th></th>\n",
       "      <th>duracao_conexao</th>\n",
       "      <th>numero_ligantes</th>\n",
       "      <th>percentagem_relativa</th>\n",
       "      <th>percentagem_acumulada</th>\n",
       "    </tr>\n",
       "  </thead>\n",
       "  <tbody>\n",
       "    <tr>\n",
       "      <th>0</th>\n",
       "      <td>0</td>\n",
       "      <td>0</td>\n",
       "      <td>0.000</td>\n",
       "      <td>0.000</td>\n",
       "    </tr>\n",
       "    <tr>\n",
       "      <th>1</th>\n",
       "      <td>5</td>\n",
       "      <td>870</td>\n",
       "      <td>0.087</td>\n",
       "      <td>0.087</td>\n",
       "    </tr>\n",
       "    <tr>\n",
       "      <th>2</th>\n",
       "      <td>10</td>\n",
       "      <td>2210</td>\n",
       "      <td>0.221</td>\n",
       "      <td>0.308</td>\n",
       "    </tr>\n",
       "    <tr>\n",
       "      <th>3</th>\n",
       "      <td>15</td>\n",
       "      <td>2940</td>\n",
       "      <td>0.294</td>\n",
       "      <td>0.602</td>\n",
       "    </tr>\n",
       "    <tr>\n",
       "      <th>4</th>\n",
       "      <td>20</td>\n",
       "      <td>1710</td>\n",
       "      <td>0.171</td>\n",
       "      <td>0.773</td>\n",
       "    </tr>\n",
       "    <tr>\n",
       "      <th>5</th>\n",
       "      <td>25</td>\n",
       "      <td>1360</td>\n",
       "      <td>0.136</td>\n",
       "      <td>0.909</td>\n",
       "    </tr>\n",
       "    <tr>\n",
       "      <th>6</th>\n",
       "      <td>30</td>\n",
       "      <td>590</td>\n",
       "      <td>0.059</td>\n",
       "      <td>0.968</td>\n",
       "    </tr>\n",
       "    <tr>\n",
       "      <th>7</th>\n",
       "      <td>35</td>\n",
       "      <td>250</td>\n",
       "      <td>0.025</td>\n",
       "      <td>0.993</td>\n",
       "    </tr>\n",
       "    <tr>\n",
       "      <th>8</th>\n",
       "      <td>40</td>\n",
       "      <td>70</td>\n",
       "      <td>0.007</td>\n",
       "      <td>1.000</td>\n",
       "    </tr>\n",
       "  </tbody>\n",
       "</table>\n",
       "</div>"
      ],
      "text/plain": [
       "   duracao_conexao  numero_ligantes  percentagem_relativa  \\\n",
       "0                0                0                 0.000   \n",
       "1                5              870                 0.087   \n",
       "2               10             2210                 0.221   \n",
       "3               15             2940                 0.294   \n",
       "4               20             1710                 0.171   \n",
       "5               25             1360                 0.136   \n",
       "6               30              590                 0.059   \n",
       "7               35              250                 0.025   \n",
       "8               40               70                 0.007   \n",
       "\n",
       "   percentagem_acumulada  \n",
       "0                  0.000  \n",
       "1                  0.087  \n",
       "2                  0.308  \n",
       "3                  0.602  \n",
       "4                  0.773  \n",
       "5                  0.909  \n",
       "6                  0.968  \n",
       "7                  0.993  \n",
       "8                  1.000  "
      ]
     },
     "execution_count": 151,
     "metadata": {},
     "output_type": "execute_result"
    }
   ],
   "source": [
    "df_duracoes"
   ]
  },
  {
   "cell_type": "code",
   "execution_count": 152,
   "id": "0cfd90f5",
   "metadata": {},
   "outputs": [
    {
     "data": {
      "text/plain": [
       "0"
      ]
     },
     "execution_count": 152,
     "metadata": {},
     "output_type": "execute_result"
    }
   ],
   "source": [
    "df_duracoes.loc[0, \"duracao_conexao\"]"
   ]
  },
  {
   "cell_type": "code",
   "execution_count": 153,
   "id": "46227033",
   "metadata": {},
   "outputs": [
    {
     "data": {
      "text/plain": [
       "0"
      ]
     },
     "execution_count": 153,
     "metadata": {},
     "output_type": "execute_result"
    }
   ],
   "source": [
    "df_duracoes.iloc[0,0]"
   ]
  },
  {
   "cell_type": "code",
   "execution_count": 154,
   "id": "7ad437fe",
   "metadata": {},
   "outputs": [
    {
     "data": {
      "text/plain": [
       "array([684, 559, 629, 192, 835, 763, 707, 359,   9, 723], dtype=int32)"
      ]
     },
     "execution_count": 154,
     "metadata": {},
     "output_type": "execute_result"
    }
   ],
   "source": [
    "momentos_ligacoes[:10]"
   ]
  },
  {
   "cell_type": "code",
   "execution_count": 155,
   "id": "5f940a2a",
   "metadata": {},
   "outputs": [
    {
     "data": {
      "text/plain": [
       "array([ 0,  3,  4,  4,  7,  9, 11, 11, 13, 13], dtype=int32)"
      ]
     },
     "execution_count": 155,
     "metadata": {},
     "output_type": "execute_result"
    }
   ],
   "source": [
    "momentos_ligacoes.sort()\n",
    "momentos_ligacoes[:10]\n",
    "#sort aqui nao tem nada haver com SORTE, MAS SIM em rankear crescente ou decresente"
   ]
  },
  {
   "cell_type": "code",
   "execution_count": 156,
   "id": "6ca066c0",
   "metadata": {},
   "outputs": [],
   "source": [
    "atendentes: list [dict] = []"
   ]
  },
  {
   "cell_type": "code",
   "execution_count": 157,
   "id": "5c38a762",
   "metadata": {},
   "outputs": [],
   "source": [
    "np.set_printoptions(legacy=\"1.13\")"
   ]
  },
  {
   "cell_type": "code",
   "execution_count": 158,
   "id": "1c446947",
   "metadata": {},
   "outputs": [
    {
     "data": {
      "text/plain": [
       "0"
      ]
     },
     "execution_count": 158,
     "metadata": {},
     "output_type": "execute_result"
    }
   ],
   "source": [
    "momento_ligacao = momentos_ligacoes[0]\n",
    "momento_ligacao"
   ]
  },
  {
   "cell_type": "code",
   "execution_count": 159,
   "id": "916eb987",
   "metadata": {},
   "outputs": [
    {
     "name": "stdout",
     "output_type": "stream",
     "text": [
      "14.9651548682\n"
     ]
    }
   ],
   "source": [
    "np.random.seed(0)\n",
    "aleatorio = np.random.rand()\n",
    "tempo_duracao = abs(np.polyval(coefs, aleatorio))\n",
    "print(tempo_duracao)"
   ]
  },
  {
   "cell_type": "code",
   "execution_count": 160,
   "id": "dcdec443",
   "metadata": {},
   "outputs": [
    {
     "data": {
      "text/plain": [
       "{'inicio': 0, 'fim': 14.965154868196022}"
      ]
     },
     "execution_count": 160,
     "metadata": {},
     "output_type": "execute_result"
    }
   ],
   "source": [
    "if atendentes == []:\n",
    "    atendente = {\n",
    "        \"inicio\": momento_ligacao,\n",
    "        \"fim\": momento_ligacao + tempo_duracao\n",
    "    }\n",
    "    atendentes.append(atendente)\n",
    "\n",
    "atendente"
   ]
  },
  {
   "cell_type": "code",
   "execution_count": 161,
   "id": "e587ec3e",
   "metadata": {},
   "outputs": [
    {
     "data": {
      "text/plain": [
       "3"
      ]
     },
     "execution_count": 161,
     "metadata": {},
     "output_type": "execute_result"
    }
   ],
   "source": [
    "momento_ligacao = momentos_ligacoes[1]\n",
    "momento_ligacao"
   ]
  },
  {
   "cell_type": "code",
   "execution_count": 162,
   "id": "efc3762c",
   "metadata": {},
   "outputs": [],
   "source": [
    "espera_maxima = 10\n",
    "tempo_descanso = 0"
   ]
  },
  {
   "cell_type": "code",
   "execution_count": 163,
   "id": "4f17326a",
   "metadata": {},
   "outputs": [
    {
     "data": {
      "text/plain": [
       "11.718611909498971"
      ]
     },
     "execution_count": 163,
     "metadata": {},
     "output_type": "execute_result"
    }
   ],
   "source": [
    "np.random.seed(1)\n",
    "aleatorio = np.random.random()\n",
    "tempo_duracao = abs(np.polyval(coefs, aleatorio))\n",
    "tempo_duracao"
   ]
  },
  {
   "cell_type": "code",
   "execution_count": 164,
   "id": "d21221e0",
   "metadata": {},
   "outputs": [
    {
     "data": {
      "text/plain": [
       "[{'inicio': 0, 'fim': 14.965154868196022},\n",
       " {'inicio': 3, 'fim': 14.718611909498971}]"
      ]
     },
     "execution_count": 164,
     "metadata": {},
     "output_type": "execute_result"
    }
   ],
   "source": [
    "for atendente in atendentes:\n",
    "    fim = atendente[\"fim\"] + tempo_descanso\n",
    "\n",
    "    if momento_ligacao + espera_maxima < fim:\n",
    "        ocupado = True\n",
    "    else:\n",
    "        ocupado = False\n",
    "\n",
    "    if not ocupado:\n",
    "        \n",
    "        if momento_ligacao + espera_maxima > fim:\n",
    "            atendente[\"inicio\"] = momento_ligacao + espera_maxima\n",
    "        else:\n",
    "            atendente[\"inicio\"] = fim\n",
    "\n",
    "        atendente[\"inicio\"] = atendente[\"inicio\"] + tempo_duracao\n",
    "        break\n",
    "else:\n",
    "    \n",
    "    atendente = {\n",
    "        \"inicio\": momento_ligacao,\n",
    "        \"fim\": momento_ligacao + tempo_duracao\n",
    "    }\n",
    "    atendentes.append(atendente)\n",
    "atendentes\n"
   ]
  },
  {
   "cell_type": "code",
   "execution_count": 167,
   "id": "733dd7d0",
   "metadata": {},
   "outputs": [
    {
     "data": {
      "text/plain": [
       "4"
      ]
     },
     "execution_count": 167,
     "metadata": {},
     "output_type": "execute_result"
    }
   ],
   "source": [
    "momento_ligacao = momentos_ligacoes[2]\n",
    "momento_ligacao"
   ]
  },
  {
   "cell_type": "code",
   "execution_count": 176,
   "id": "d52fb028",
   "metadata": {},
   "outputs": [
    {
     "data": {
      "text/plain": [
       "[{'inicio': 904, 'fim': 914.4037564982807},\n",
       " {'inicio': 906, 'fim': 917.86945228372167},\n",
       " {'inicio': 909, 'fim': 917.37356632866181},\n",
       " {'inicio': 900, 'fim': 912.04701461181367},\n",
       " {'inicio': 906, 'fim': 913.54143974652425},\n",
       " {'inicio': 906, 'fim': 909.2110175449335},\n",
       " {'inicio': 907, 'fim': 923.65667308248339},\n",
       " {'inicio': 898, 'fim': 910.80468815160725},\n",
       " {'inicio': 892, 'fim': 918.91345867401799},\n",
       " {'inicio': 892, 'fim': 899.6962495432706},\n",
       " {'inicio': 895, 'fim': 921.10612199350487},\n",
       " {'inicio': 894, 'fim': 924.69074239242343},\n",
       " {'inicio': 894, 'fim': 912.97138604541612},\n",
       " {'inicio': 895, 'fim': 911.50408245771962},\n",
       " {'inicio': 896, 'fim': 906.24103253233636},\n",
       " {'inicio': 896, 'fim': 913.60372669768321},\n",
       " {'inicio': 899, 'fim': 917.10414350589645},\n",
       " {'inicio': 899, 'fim': 928.75678690002758},\n",
       " {'inicio': 899, 'fim': 903.08006092171786},\n",
       " {'inicio': 899, 'fim': 906.40232584615558}]"
      ]
     },
     "execution_count": 176,
     "metadata": {},
     "output_type": "execute_result"
    }
   ],
   "source": [
    "np.random.seed(5)\n",
    "tempo_descanso = 0\n",
    "espera_maxima = 10\n",
    "atendentes = []\n",
    "for momento_ligacao in momentos_ligacoes:\n",
    "    aleatorio = np.random.random()\n",
    "    tempo_duracao = abs(np.polyval(coefs, aleatorio))\n",
    "\n",
    "    for atendente in atendentes:\n",
    "        fim = atendente[\"fim\"] + tempo_descanso\n",
    "\n",
    "        if momento_ligacao + espera_maxima < fim:\n",
    "            ocupado = True\n",
    "        else:\n",
    "            ocupado = False\n",
    "\n",
    "        if not ocupado:\n",
    "\n",
    "            if momento_ligacao + espera_maxima > fim:\n",
    "                atendente[\"inicio\"] = momento_ligacao + espera_maxima\n",
    "            else:\n",
    "                atendente[\"inicio\"] = fim\n",
    "            \n",
    "            atendente[\"fim\"] = atendente[\"inicio\"] + tempo_duracao\n",
    "            break\n",
    "    else:\n",
    "\n",
    "        atendente = {\n",
    "            \"inicio\": momento_ligacao,\n",
    "            \"fim\": momento_ligacao + tempo_duracao\n",
    "        }\n",
    "        atendentes.append(atendente)\n",
    "\n",
    "atendentes\n"
   ]
  },
  {
   "cell_type": "code",
   "execution_count": 178,
   "id": "d49250f5",
   "metadata": {},
   "outputs": [
    {
     "data": {
      "text/plain": [
       "0"
      ]
     },
     "execution_count": 178,
     "metadata": {},
     "output_type": "execute_result"
    }
   ],
   "source": [
    "len(atendentes)"
   ]
  },
  {
   "cell_type": "code",
   "execution_count": 179,
   "id": "d0919f95",
   "metadata": {},
   "outputs": [
    {
     "data": {
      "text/plain": [
       "array([2, 1, 5, 4, 8, 6, 3, 7])"
      ]
     },
     "execution_count": 179,
     "metadata": {},
     "output_type": "execute_result"
    }
   ],
   "source": [
    "np.random.permutation([1,2,3,4,5,6,7,8])"
   ]
  },
  {
   "cell_type": "code",
   "execution_count": 180,
   "id": "564d81c8",
   "metadata": {},
   "outputs": [
    {
     "data": {
      "text/plain": [
       "[{'inicio': 899, 'fim': 909.29559843811921},\n",
       " {'inicio': 900, 'fim': 910.89334430853955},\n",
       " {'inicio': 899, 'fim': 932.21236755469567},\n",
       " {'inicio': 909, 'fim': 917.53861755803973},\n",
       " {'inicio': 904, 'fim': 920.23396461861057},\n",
       " {'inicio': 899, 'fim': 908.85265704300502},\n",
       " {'inicio': 867, 'fim': 894.9962068760093},\n",
       " {'inicio': 901, 'fim': 917.66657940193431},\n",
       " {'inicio': 907, 'fim': 915.17518229722555},\n",
       " {'inicio': 906, 'fim': 913.65133331310551},\n",
       " {'inicio': 896, 'fim': 906.82228408233289},\n",
       " {'inicio': 892, 'fim': 907.66966275774632},\n",
       " {'inicio': 882, 'fim': 901.13837905289324},\n",
       " {'inicio': 883, 'fim': 902.83508526014623},\n",
       " {'inicio': 814, 'fim': 843.61932082301757},\n",
       " {'inicio': 899, 'fim': 907.73089614696869},\n",
       " {'inicio': 896, 'fim': 912.80887286644202},\n",
       " {'inicio': 906, 'fim': 930.77650856562752},\n",
       " {'inicio': 906, 'fim': 914.0496784226475}]"
      ]
     },
     "execution_count": 180,
     "metadata": {},
     "output_type": "execute_result"
    }
   ],
   "source": [
    "np.random.seed(5)\n",
    "tempo_descanso = 0\n",
    "espera_maxima = 10\n",
    "atendentes = []\n",
    "for momento_ligacao in momentos_ligacoes:\n",
    "    aleatorio = np.random.random()\n",
    "    tempo_duracao = abs(np.polyval(coefs, aleatorio))\n",
    "\n",
    "    atendentes = list(np.random.permutation(atendentes))\n",
    "\n",
    "    for atendente in atendentes:\n",
    "        fim = atendente[\"fim\"] + tempo_descanso\n",
    "\n",
    "        if momento_ligacao + espera_maxima < fim:\n",
    "            ocupado = True\n",
    "        else:\n",
    "            ocupado = False\n",
    "\n",
    "        if not ocupado:\n",
    "\n",
    "            if momento_ligacao + espera_maxima > fim:\n",
    "                atendente[\"inicio\"] = momento_ligacao + espera_maxima\n",
    "            else:\n",
    "                atendente[\"inicio\"] = fim\n",
    "            \n",
    "            atendente[\"fim\"] = atendente[\"inicio\"] + tempo_duracao\n",
    "            break\n",
    "    else:\n",
    "\n",
    "        atendente = {\n",
    "            \"inicio\": momento_ligacao,\n",
    "            \"fim\": momento_ligacao + tempo_duracao\n",
    "        }\n",
    "        atendentes.append(atendente)\n",
    "\n",
    "atendentes"
   ]
  },
  {
   "cell_type": "code",
   "execution_count": null,
   "id": "7f091a7c",
   "metadata": {},
   "outputs": [
    {
     "data": {
      "text/plain": [
       "19"
      ]
     },
     "execution_count": 181,
     "metadata": {},
     "output_type": "execute_result"
    }
   ],
   "source": [
    "len(atendentes)       "
   ]
  },
  {
   "cell_type": "code",
   "execution_count": 184,
   "id": "46547574",
   "metadata": {},
   "outputs": [
    {
     "data": {
      "application/vnd.microsoft.datawrangler.viewer.v0+json": {
       "columns": [
        {
         "name": "index",
         "rawType": "int64",
         "type": "integer"
        },
        {
         "name": "rotulo",
         "rawType": "int64",
         "type": "integer"
        },
        {
         "name": "hora_inicio",
         "rawType": "object",
         "type": "unknown"
        },
        {
         "name": "hora_fim",
         "rawType": "object",
         "type": "unknown"
        },
        {
         "name": "numero_medio_ligantes",
         "rawType": "int64",
         "type": "integer"
        }
       ],
       "ref": "3b967bc7-1c7d-4a76-8b8d-ebafa0a2d6ad",
       "rows": [
        [
         "0",
         "1",
         "00:00:00",
         "00:15:00",
         "601"
        ],
        [
         "1",
         "2",
         "00:15:00",
         "00:30:00",
         "190"
        ],
        [
         "2",
         "3",
         "00:30:00",
         "00:45:00",
         "180"
        ],
        [
         "3",
         "4",
         "00:45:00",
         "01:00:00",
         "177"
        ],
        [
         "4",
         "5",
         "01:00:00",
         "01:15:00",
         "162"
        ],
        [
         "5",
         "6",
         "01:15:00",
         "01:30:00",
         "110"
        ],
        [
         "6",
         "7",
         "01:30:00",
         "01:45:00",
         "99"
        ],
        [
         "7",
         "8",
         "01:45:00",
         "02:00:00",
         "108"
        ],
        [
         "8",
         "9",
         "02:00:00",
         "02:15:00",
         "97"
        ],
        [
         "9",
         "10",
         "02:15:00",
         "02:30:00",
         "77"
        ],
        [
         "10",
         "11",
         "02:30:00",
         "02:45:00",
         "75"
        ],
        [
         "11",
         "12",
         "02:45:00",
         "03:00:00",
         "76"
        ],
        [
         "12",
         "13",
         "03:00:00",
         "03:15:00",
         "79"
        ],
        [
         "13",
         "14",
         "03:15:00",
         "03:30:00",
         "46"
        ],
        [
         "14",
         "15",
         "03:30:00",
         "03:45:00",
         "45"
        ],
        [
         "15",
         "16",
         "03:45:00",
         "04:00:00",
         "42"
        ],
        [
         "16",
         "17",
         "04:00:00",
         "04:15:00",
         "49"
        ],
        [
         "17",
         "18",
         "04:15:00",
         "04:30:00",
         "45"
        ],
        [
         "18",
         "19",
         "04:30:00",
         "04:45:00",
         "44"
        ],
        [
         "19",
         "20",
         "04:45:00",
         "05:00:00",
         "49"
        ],
        [
         "20",
         "21",
         "05:00:00",
         "05:15:00",
         "57"
        ],
        [
         "21",
         "22",
         "05:15:00",
         "05:30:00",
         "52"
        ],
        [
         "22",
         "23",
         "05:30:00",
         "05:45:00",
         "51"
        ],
        [
         "23",
         "24",
         "05:45:00",
         "06:00:00",
         "49"
        ],
        [
         "24",
         "25",
         "06:00:00",
         "06:15:00",
         "97"
        ],
        [
         "25",
         "26",
         "06:15:00",
         "06:30:00",
         "132"
        ],
        [
         "26",
         "27",
         "06:30:00",
         "06:45:00",
         "141"
        ],
        [
         "27",
         "28",
         "06:45:00",
         "07:00:00",
         "155"
        ],
        [
         "28",
         "29",
         "07:00:00",
         "07:15:00",
         "630"
        ],
        [
         "29",
         "30",
         "07:15:00",
         "07:30:00",
         "634"
        ],
        [
         "30",
         "31",
         "07:30:00",
         "07:45:00",
         "790"
        ],
        [
         "31",
         "32",
         "07:45:00",
         "08:00:00",
         "698"
        ],
        [
         "32",
         "33",
         "08:00:00",
         "08:15:00",
         "1570"
        ],
        [
         "33",
         "34",
         "08:15:00",
         "08:30:00",
         "1590"
        ],
        [
         "34",
         "35",
         "08:30:00",
         "08:45:00",
         "1601"
        ],
        [
         "35",
         "36",
         "08:45:00",
         "09:00:00",
         "1700"
        ],
        [
         "36",
         "37",
         "09:00:00",
         "09:15:00",
         "2600"
        ],
        [
         "37",
         "38",
         "09:15:00",
         "09:30:00",
         "2509"
        ],
        [
         "38",
         "39",
         "09:30:00",
         "09:45:00",
         "2603"
        ],
        [
         "39",
         "40",
         "09:45:00",
         "10:00:00",
         "2699"
        ],
        [
         "40",
         "41",
         "10:00:00",
         "10:15:00",
         "3124"
        ],
        [
         "41",
         "42",
         "10:15:00",
         "10:30:00",
         "3135"
        ],
        [
         "42",
         "43",
         "10:30:00",
         "10:45:00",
         "3080"
        ],
        [
         "43",
         "44",
         "10:45:00",
         "11:00:00",
         "3197"
        ],
        [
         "44",
         "45",
         "11:00:00",
         "11:15:00",
         "2890"
        ],
        [
         "45",
         "46",
         "11:15:00",
         "11:30:00",
         "2910"
        ],
        [
         "46",
         "47",
         "11:30:00",
         "11:45:00",
         "2912"
        ],
        [
         "47",
         "48",
         "11:45:00",
         "12:00:00",
         "2870"
        ],
        [
         "48",
         "49",
         "12:00:00",
         "12:15:00",
         "2403"
        ],
        [
         "49",
         "50",
         "12:15:00",
         "12:30:00",
         "2397"
        ]
       ],
       "shape": {
        "columns": 4,
        "rows": 96
       }
      },
      "text/html": [
       "<div>\n",
       "<style scoped>\n",
       "    .dataframe tbody tr th:only-of-type {\n",
       "        vertical-align: middle;\n",
       "    }\n",
       "\n",
       "    .dataframe tbody tr th {\n",
       "        vertical-align: top;\n",
       "    }\n",
       "\n",
       "    .dataframe thead th {\n",
       "        text-align: right;\n",
       "    }\n",
       "</style>\n",
       "<table border=\"1\" class=\"dataframe\">\n",
       "  <thead>\n",
       "    <tr style=\"text-align: right;\">\n",
       "      <th></th>\n",
       "      <th>rotulo</th>\n",
       "      <th>hora_inicio</th>\n",
       "      <th>hora_fim</th>\n",
       "      <th>numero_medio_ligantes</th>\n",
       "    </tr>\n",
       "  </thead>\n",
       "  <tbody>\n",
       "    <tr>\n",
       "      <th>0</th>\n",
       "      <td>1</td>\n",
       "      <td>00:00:00</td>\n",
       "      <td>00:15:00</td>\n",
       "      <td>601</td>\n",
       "    </tr>\n",
       "    <tr>\n",
       "      <th>1</th>\n",
       "      <td>2</td>\n",
       "      <td>00:15:00</td>\n",
       "      <td>00:30:00</td>\n",
       "      <td>190</td>\n",
       "    </tr>\n",
       "    <tr>\n",
       "      <th>2</th>\n",
       "      <td>3</td>\n",
       "      <td>00:30:00</td>\n",
       "      <td>00:45:00</td>\n",
       "      <td>180</td>\n",
       "    </tr>\n",
       "    <tr>\n",
       "      <th>3</th>\n",
       "      <td>4</td>\n",
       "      <td>00:45:00</td>\n",
       "      <td>01:00:00</td>\n",
       "      <td>177</td>\n",
       "    </tr>\n",
       "    <tr>\n",
       "      <th>4</th>\n",
       "      <td>5</td>\n",
       "      <td>01:00:00</td>\n",
       "      <td>01:15:00</td>\n",
       "      <td>162</td>\n",
       "    </tr>\n",
       "    <tr>\n",
       "      <th>...</th>\n",
       "      <td>...</td>\n",
       "      <td>...</td>\n",
       "      <td>...</td>\n",
       "      <td>...</td>\n",
       "    </tr>\n",
       "    <tr>\n",
       "      <th>91</th>\n",
       "      <td>92</td>\n",
       "      <td>22:45:00</td>\n",
       "      <td>23:00:00</td>\n",
       "      <td>920</td>\n",
       "    </tr>\n",
       "    <tr>\n",
       "      <th>92</th>\n",
       "      <td>93</td>\n",
       "      <td>23:00:00</td>\n",
       "      <td>23:15:00</td>\n",
       "      <td>897</td>\n",
       "    </tr>\n",
       "    <tr>\n",
       "      <th>93</th>\n",
       "      <td>94</td>\n",
       "      <td>23:15:00</td>\n",
       "      <td>23:30:00</td>\n",
       "      <td>571</td>\n",
       "    </tr>\n",
       "    <tr>\n",
       "      <th>94</th>\n",
       "      <td>95</td>\n",
       "      <td>23:30:00</td>\n",
       "      <td>23:45:00</td>\n",
       "      <td>560</td>\n",
       "    </tr>\n",
       "    <tr>\n",
       "      <th>95</th>\n",
       "      <td>96</td>\n",
       "      <td>23:45:00</td>\n",
       "      <td>00:00:00</td>\n",
       "      <td>590</td>\n",
       "    </tr>\n",
       "  </tbody>\n",
       "</table>\n",
       "<p>96 rows × 4 columns</p>\n",
       "</div>"
      ],
      "text/plain": [
       "    rotulo hora_inicio  hora_fim  numero_medio_ligantes\n",
       "0        1    00:00:00  00:15:00                    601\n",
       "1        2    00:15:00  00:30:00                    190\n",
       "2        3    00:30:00  00:45:00                    180\n",
       "3        4    00:45:00  01:00:00                    177\n",
       "4        5    01:00:00  01:15:00                    162\n",
       "..     ...         ...       ...                    ...\n",
       "91      92    22:45:00  23:00:00                    920\n",
       "92      93    23:00:00  23:15:00                    897\n",
       "93      94    23:15:00  23:30:00                    571\n",
       "94      95    23:30:00  23:45:00                    560\n",
       "95      96    23:45:00  00:00:00                    590\n",
       "\n",
       "[96 rows x 4 columns]"
      ]
     },
     "execution_count": 184,
     "metadata": {},
     "output_type": "execute_result"
    }
   ],
   "source": [
    " df_tabela_ligantes"
   ]
  },
  {
   "cell_type": "code",
   "execution_count": 186,
   "id": "5320bb88",
   "metadata": {},
   "outputs": [
    {
     "data": {
      "text/plain": [
       "[20,\n",
       " 9,\n",
       " 8,\n",
       " 9,\n",
       " 8,\n",
       " 5,\n",
       " 6,\n",
       " 7,\n",
       " 5,\n",
       " 5,\n",
       " 4,\n",
       " 5,\n",
       " 4,\n",
       " 4,\n",
       " 4,\n",
       " 4,\n",
       " 4,\n",
       " 5,\n",
       " 4,\n",
       " 4,\n",
       " 4,\n",
       " 4,\n",
       " 3,\n",
       " 4,\n",
       " 6,\n",
       " 6,\n",
       " 8,\n",
       " 7,\n",
       " 20,\n",
       " 21,\n",
       " 23,\n",
       " 23,\n",
       " 41,\n",
       " 41,\n",
       " 41,\n",
       " 45,\n",
       " 66,\n",
       " 59,\n",
       " 60,\n",
       " 67,\n",
       " 70,\n",
       " 75,\n",
       " 71,\n",
       " 75,\n",
       " 66,\n",
       " 64,\n",
       " 62,\n",
       " 68,\n",
       " 57,\n",
       " 57,\n",
       " 56,\n",
       " 60,\n",
       " 64,\n",
       " 67,\n",
       " 63,\n",
       " 70,\n",
       " 69,\n",
       " 67,\n",
       " 64,\n",
       " 66,\n",
       " 71,\n",
       " 66,\n",
       " 70,\n",
       " 67,\n",
       " 68,\n",
       " 66,\n",
       " 68,\n",
       " 71,\n",
       " 68,\n",
       " 69,\n",
       " 73,\n",
       " 62,\n",
       " 55,\n",
       " 51,\n",
       " 52,\n",
       " 48,\n",
       " 45,\n",
       " 44,\n",
       " 39,\n",
       " 38,\n",
       " 41,\n",
       " 36,\n",
       " 36,\n",
       " 40,\n",
       " 36,\n",
       " 34,\n",
       " 30,\n",
       " 31,\n",
       " 31,\n",
       " 26,\n",
       " 26,\n",
       " 26,\n",
       " 23,\n",
       " 18,\n",
       " 18,\n",
       " 18]"
      ]
     },
     "execution_count": 186,
     "metadata": {},
     "output_type": "execute_result"
    }
   ],
   "source": [
    "np.random.seed(5)\n",
    "tempo_descanso = 0\n",
    "espera_maxima = 10\n",
    "coluna_nan = []\n",
    "for i, linha in df_tabela_ligantes.iterrows():\n",
    "    qtd_ligacoes = linha[\"numero_medio_ligantes\"]\n",
    "\n",
    "    momentos_ligacoes = np.random.randint(0, 900, size=qtd_ligacoes)\n",
    "    momentos_ligacoes.sort()\n",
    "\n",
    "    atendentes = []\n",
    "    for momento_ligacao in momentos_ligacoes:\n",
    "        aleatorio = np.random.random()\n",
    "        tempo_duracao = abs(np.polyval(coefs, aleatorio))\n",
    "\n",
    "        atendentes = list(np.random.permutation(atendentes))\n",
    "\n",
    "        for atendente in atendentes:\n",
    "            fim = atendente[\"fim\"] + tempo_descanso\n",
    "\n",
    "            if momento_ligacao + espera_maxima < fim:\n",
    "                ocupado = True\n",
    "            else:\n",
    "                ocupado = False\n",
    "\n",
    "            if not ocupado:\n",
    "\n",
    "                if momento_ligacao + espera_maxima > fim:\n",
    "                    atendente[\"inicio\"] = momento_ligacao + espera_maxima\n",
    "                else:\n",
    "                    atendente[\"inicio\"] = fim\n",
    "                \n",
    "                atendente[\"fim\"] = atendente[\"inicio\"] + tempo_duracao\n",
    "                break\n",
    "        else:\n",
    "\n",
    "            atendente = {\n",
    "                \"inicio\": momento_ligacao,\n",
    "                \"fim\": momento_ligacao + tempo_duracao\n",
    "            }\n",
    "            atendentes.append(atendente)\n",
    "    \n",
    "    nan = len(atendentes)\n",
    "    coluna_nan.append(nan)\n",
    "\n",
    "coluna_nan"
   ]
  },
  {
   "cell_type": "code",
   "execution_count": 187,
   "id": "82a0b5d5",
   "metadata": {},
   "outputs": [
    {
     "data": {
      "application/vnd.microsoft.datawrangler.viewer.v0+json": {
       "columns": [
        {
         "name": "index",
         "rawType": "int64",
         "type": "integer"
        },
        {
         "name": "rotulo",
         "rawType": "int64",
         "type": "integer"
        },
        {
         "name": "hora_inicio",
         "rawType": "object",
         "type": "unknown"
        },
        {
         "name": "hora_fim",
         "rawType": "object",
         "type": "unknown"
        },
        {
         "name": "numero_medio_ligantes",
         "rawType": "int64",
         "type": "integer"
        },
        {
         "name": "nan",
         "rawType": "int64",
         "type": "integer"
        }
       ],
       "ref": "57c84e5a-4ab1-4ac4-bca7-aac86ee94305",
       "rows": [
        [
         "0",
         "1",
         "00:00:00",
         "00:15:00",
         "601",
         "20"
        ],
        [
         "1",
         "2",
         "00:15:00",
         "00:30:00",
         "190",
         "9"
        ],
        [
         "2",
         "3",
         "00:30:00",
         "00:45:00",
         "180",
         "8"
        ],
        [
         "3",
         "4",
         "00:45:00",
         "01:00:00",
         "177",
         "9"
        ],
        [
         "4",
         "5",
         "01:00:00",
         "01:15:00",
         "162",
         "8"
        ],
        [
         "5",
         "6",
         "01:15:00",
         "01:30:00",
         "110",
         "5"
        ],
        [
         "6",
         "7",
         "01:30:00",
         "01:45:00",
         "99",
         "6"
        ],
        [
         "7",
         "8",
         "01:45:00",
         "02:00:00",
         "108",
         "7"
        ],
        [
         "8",
         "9",
         "02:00:00",
         "02:15:00",
         "97",
         "5"
        ],
        [
         "9",
         "10",
         "02:15:00",
         "02:30:00",
         "77",
         "5"
        ],
        [
         "10",
         "11",
         "02:30:00",
         "02:45:00",
         "75",
         "4"
        ],
        [
         "11",
         "12",
         "02:45:00",
         "03:00:00",
         "76",
         "5"
        ],
        [
         "12",
         "13",
         "03:00:00",
         "03:15:00",
         "79",
         "4"
        ],
        [
         "13",
         "14",
         "03:15:00",
         "03:30:00",
         "46",
         "4"
        ],
        [
         "14",
         "15",
         "03:30:00",
         "03:45:00",
         "45",
         "4"
        ],
        [
         "15",
         "16",
         "03:45:00",
         "04:00:00",
         "42",
         "4"
        ],
        [
         "16",
         "17",
         "04:00:00",
         "04:15:00",
         "49",
         "4"
        ],
        [
         "17",
         "18",
         "04:15:00",
         "04:30:00",
         "45",
         "5"
        ],
        [
         "18",
         "19",
         "04:30:00",
         "04:45:00",
         "44",
         "4"
        ],
        [
         "19",
         "20",
         "04:45:00",
         "05:00:00",
         "49",
         "4"
        ],
        [
         "20",
         "21",
         "05:00:00",
         "05:15:00",
         "57",
         "4"
        ],
        [
         "21",
         "22",
         "05:15:00",
         "05:30:00",
         "52",
         "4"
        ],
        [
         "22",
         "23",
         "05:30:00",
         "05:45:00",
         "51",
         "3"
        ],
        [
         "23",
         "24",
         "05:45:00",
         "06:00:00",
         "49",
         "4"
        ],
        [
         "24",
         "25",
         "06:00:00",
         "06:15:00",
         "97",
         "6"
        ],
        [
         "25",
         "26",
         "06:15:00",
         "06:30:00",
         "132",
         "6"
        ],
        [
         "26",
         "27",
         "06:30:00",
         "06:45:00",
         "141",
         "8"
        ],
        [
         "27",
         "28",
         "06:45:00",
         "07:00:00",
         "155",
         "7"
        ],
        [
         "28",
         "29",
         "07:00:00",
         "07:15:00",
         "630",
         "20"
        ],
        [
         "29",
         "30",
         "07:15:00",
         "07:30:00",
         "634",
         "21"
        ],
        [
         "30",
         "31",
         "07:30:00",
         "07:45:00",
         "790",
         "23"
        ],
        [
         "31",
         "32",
         "07:45:00",
         "08:00:00",
         "698",
         "23"
        ],
        [
         "32",
         "33",
         "08:00:00",
         "08:15:00",
         "1570",
         "41"
        ],
        [
         "33",
         "34",
         "08:15:00",
         "08:30:00",
         "1590",
         "41"
        ],
        [
         "34",
         "35",
         "08:30:00",
         "08:45:00",
         "1601",
         "41"
        ],
        [
         "35",
         "36",
         "08:45:00",
         "09:00:00",
         "1700",
         "45"
        ],
        [
         "36",
         "37",
         "09:00:00",
         "09:15:00",
         "2600",
         "66"
        ],
        [
         "37",
         "38",
         "09:15:00",
         "09:30:00",
         "2509",
         "59"
        ],
        [
         "38",
         "39",
         "09:30:00",
         "09:45:00",
         "2603",
         "60"
        ],
        [
         "39",
         "40",
         "09:45:00",
         "10:00:00",
         "2699",
         "67"
        ],
        [
         "40",
         "41",
         "10:00:00",
         "10:15:00",
         "3124",
         "70"
        ],
        [
         "41",
         "42",
         "10:15:00",
         "10:30:00",
         "3135",
         "75"
        ],
        [
         "42",
         "43",
         "10:30:00",
         "10:45:00",
         "3080",
         "71"
        ],
        [
         "43",
         "44",
         "10:45:00",
         "11:00:00",
         "3197",
         "75"
        ],
        [
         "44",
         "45",
         "11:00:00",
         "11:15:00",
         "2890",
         "66"
        ],
        [
         "45",
         "46",
         "11:15:00",
         "11:30:00",
         "2910",
         "64"
        ],
        [
         "46",
         "47",
         "11:30:00",
         "11:45:00",
         "2912",
         "62"
        ],
        [
         "47",
         "48",
         "11:45:00",
         "12:00:00",
         "2870",
         "68"
        ],
        [
         "48",
         "49",
         "12:00:00",
         "12:15:00",
         "2403",
         "57"
        ],
        [
         "49",
         "50",
         "12:15:00",
         "12:30:00",
         "2397",
         "57"
        ]
       ],
       "shape": {
        "columns": 5,
        "rows": 96
       }
      },
      "text/html": [
       "<div>\n",
       "<style scoped>\n",
       "    .dataframe tbody tr th:only-of-type {\n",
       "        vertical-align: middle;\n",
       "    }\n",
       "\n",
       "    .dataframe tbody tr th {\n",
       "        vertical-align: top;\n",
       "    }\n",
       "\n",
       "    .dataframe thead th {\n",
       "        text-align: right;\n",
       "    }\n",
       "</style>\n",
       "<table border=\"1\" class=\"dataframe\">\n",
       "  <thead>\n",
       "    <tr style=\"text-align: right;\">\n",
       "      <th></th>\n",
       "      <th>rotulo</th>\n",
       "      <th>hora_inicio</th>\n",
       "      <th>hora_fim</th>\n",
       "      <th>numero_medio_ligantes</th>\n",
       "      <th>nan</th>\n",
       "    </tr>\n",
       "  </thead>\n",
       "  <tbody>\n",
       "    <tr>\n",
       "      <th>0</th>\n",
       "      <td>1</td>\n",
       "      <td>00:00:00</td>\n",
       "      <td>00:15:00</td>\n",
       "      <td>601</td>\n",
       "      <td>20</td>\n",
       "    </tr>\n",
       "    <tr>\n",
       "      <th>1</th>\n",
       "      <td>2</td>\n",
       "      <td>00:15:00</td>\n",
       "      <td>00:30:00</td>\n",
       "      <td>190</td>\n",
       "      <td>9</td>\n",
       "    </tr>\n",
       "    <tr>\n",
       "      <th>2</th>\n",
       "      <td>3</td>\n",
       "      <td>00:30:00</td>\n",
       "      <td>00:45:00</td>\n",
       "      <td>180</td>\n",
       "      <td>8</td>\n",
       "    </tr>\n",
       "    <tr>\n",
       "      <th>3</th>\n",
       "      <td>4</td>\n",
       "      <td>00:45:00</td>\n",
       "      <td>01:00:00</td>\n",
       "      <td>177</td>\n",
       "      <td>9</td>\n",
       "    </tr>\n",
       "    <tr>\n",
       "      <th>4</th>\n",
       "      <td>5</td>\n",
       "      <td>01:00:00</td>\n",
       "      <td>01:15:00</td>\n",
       "      <td>162</td>\n",
       "      <td>8</td>\n",
       "    </tr>\n",
       "    <tr>\n",
       "      <th>...</th>\n",
       "      <td>...</td>\n",
       "      <td>...</td>\n",
       "      <td>...</td>\n",
       "      <td>...</td>\n",
       "      <td>...</td>\n",
       "    </tr>\n",
       "    <tr>\n",
       "      <th>91</th>\n",
       "      <td>92</td>\n",
       "      <td>22:45:00</td>\n",
       "      <td>23:00:00</td>\n",
       "      <td>920</td>\n",
       "      <td>26</td>\n",
       "    </tr>\n",
       "    <tr>\n",
       "      <th>92</th>\n",
       "      <td>93</td>\n",
       "      <td>23:00:00</td>\n",
       "      <td>23:15:00</td>\n",
       "      <td>897</td>\n",
       "      <td>23</td>\n",
       "    </tr>\n",
       "    <tr>\n",
       "      <th>93</th>\n",
       "      <td>94</td>\n",
       "      <td>23:15:00</td>\n",
       "      <td>23:30:00</td>\n",
       "      <td>571</td>\n",
       "      <td>18</td>\n",
       "    </tr>\n",
       "    <tr>\n",
       "      <th>94</th>\n",
       "      <td>95</td>\n",
       "      <td>23:30:00</td>\n",
       "      <td>23:45:00</td>\n",
       "      <td>560</td>\n",
       "      <td>18</td>\n",
       "    </tr>\n",
       "    <tr>\n",
       "      <th>95</th>\n",
       "      <td>96</td>\n",
       "      <td>23:45:00</td>\n",
       "      <td>00:00:00</td>\n",
       "      <td>590</td>\n",
       "      <td>18</td>\n",
       "    </tr>\n",
       "  </tbody>\n",
       "</table>\n",
       "<p>96 rows × 5 columns</p>\n",
       "</div>"
      ],
      "text/plain": [
       "    rotulo hora_inicio  hora_fim  numero_medio_ligantes  nan\n",
       "0        1    00:00:00  00:15:00                    601   20\n",
       "1        2    00:15:00  00:30:00                    190    9\n",
       "2        3    00:30:00  00:45:00                    180    8\n",
       "3        4    00:45:00  01:00:00                    177    9\n",
       "4        5    01:00:00  01:15:00                    162    8\n",
       "..     ...         ...       ...                    ...  ...\n",
       "91      92    22:45:00  23:00:00                    920   26\n",
       "92      93    23:00:00  23:15:00                    897   23\n",
       "93      94    23:15:00  23:30:00                    571   18\n",
       "94      95    23:30:00  23:45:00                    560   18\n",
       "95      96    23:45:00  00:00:00                    590   18\n",
       "\n",
       "[96 rows x 5 columns]"
      ]
     },
     "execution_count": 187,
     "metadata": {},
     "output_type": "execute_result"
    }
   ],
   "source": [
    "df_tabela_ligantes[\"nan\"] = coluna_nan\n",
    "df_tabela_ligantes"
   ]
  },
  {
   "cell_type": "code",
   "execution_count": null,
   "id": "0a85b609",
   "metadata": {},
   "outputs": [],
   "source": []
  }
 ],
 "metadata": {
  "kernelspec": {
   "display_name": ".venv_attentus",
   "language": "python",
   "name": "python3"
  },
  "language_info": {
   "codemirror_mode": {
    "name": "ipython",
    "version": 3
   },
   "file_extension": ".py",
   "mimetype": "text/x-python",
   "name": "python",
   "nbconvert_exporter": "python",
   "pygments_lexer": "ipython3",
   "version": "3.13.2"
  }
 },
 "nbformat": 4,
 "nbformat_minor": 5
}
